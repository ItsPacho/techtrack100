{
 "cells": [
  {
   "cell_type": "code",
   "execution_count": 1,
   "metadata": {},
   "outputs": [],
   "source": [
    "# imports\n",
    "from bs4 import BeautifulSoup\n",
    "import urllib.request\n",
    "import csv\n",
    "\n",
    "import pandas as pd"
   ]
  },
  {
   "cell_type": "code",
   "execution_count": 2,
   "metadata": {},
   "outputs": [],
   "source": [
    "# url\n",
    "url = 'https://www.fasttrack.co.uk/league-tables/tech-track-100/league-table/'\n",
    "\n",
    "# query\n",
    "page = urllib.request.urlopen(url)\n",
    "\n",
    "# parsing with bs\n",
    "soup = BeautifulSoup(page, 'html.parser')"
   ]
  },
  {
   "cell_type": "code",
   "execution_count": 1,
   "metadata": {},
   "outputs": [],
   "source": [
    "#print(soup)"
   ]
  },
  {
   "cell_type": "code",
   "execution_count": 4,
   "metadata": {},
   "outputs": [],
   "source": [
    "# results within the table\n",
    "table = soup.find('table', attrs={'class': 'tableSorter'})\n",
    "results = table.find_all('tr')"
   ]
  },
  {
   "cell_type": "code",
   "execution_count": 5,
   "metadata": {},
   "outputs": [
    {
     "name": "stdout",
     "output_type": "stream",
     "text": [
      "101\n"
     ]
    }
   ],
   "source": [
    "print(len(results))"
   ]
  },
  {
   "cell_type": "code",
   "execution_count": 6,
   "metadata": {},
   "outputs": [],
   "source": [
    "# creating headers\n",
    "rows = []\n",
    "rows.append(['Rank', 'Company', 'Webpage', 'Description', 'Location', 'Year end', 'Annual sales rise over 3 years', \n",
    "             'Latest sales £000s', 'Staff', 'Comments'])"
   ]
  },
  {
   "cell_type": "code",
   "execution_count": 7,
   "metadata": {},
   "outputs": [
    {
     "name": "stdout",
     "output_type": "stream",
     "text": [
      "[['Rank', 'Company', 'Webpage', 'Description', 'Location', 'Year end', 'Annual sales rise over 3 years', 'Latest sales £000s', 'Staff', 'Comments']]\n"
     ]
    }
   ],
   "source": [
    "print(rows)"
   ]
  },
  {
   "cell_type": "code",
   "execution_count": 8,
   "metadata": {},
   "outputs": [],
   "source": [
    "# looping trough results \n",
    "for result in results:\n",
    "    data = result.find_all('td')\n",
    "    if len(data) == 0: \n",
    "        continue\n",
    "        \n",
    "    # writing columns to variables\n",
    "    rank = data[0].getText()\n",
    "    company = data[1].getText()\n",
    "    location = data[2].getText()\n",
    "    yearEnd = data[3].getText()\n",
    "    salesRise = data[4].getText()\n",
    "    sales = data[5].getText()\n",
    "    staff = data[6].getText()\n",
    "    comments = data[7].getText()\n",
    "    \n",
    "    # further cleaning of the data\n",
    "\n",
    "    # separating description from company name\n",
    "    companyname = data[1].find('span', attrs={'class':'company-name'}).getText()\n",
    "    description = company.replace(companyname, '')\n",
    "\n",
    "    # removing unwanted symbols from sales\n",
    "    sales = sales.strip('*').strip('†').replace(',','')\n",
    "\n",
    "    # extracting company website\n",
    "    url = data[1].find('a').get('href')\n",
    "    page = urllib.request.urlopen(url)\n",
    "    soup = BeautifulSoup(page, 'html.parser')\n",
    "\n",
    "    # try/catch where websites are not displayed\n",
    "    try:\n",
    "        tableRow = soup.find('table').findAll('tr')[-1]\n",
    "        webpage = tableRow.find('a').get('href')\n",
    "    except:\n",
    "        webpage = None\n",
    "        \n",
    "    # adding the cleaned data to the array rows\n",
    "    rows.append(([rank, company, webpage, description, location, yearEnd, salesRise, sales, staff, comments]))"
   ]
  },
  {
   "cell_type": "code",
   "execution_count": 2,
   "metadata": {
    "scrolled": true
   },
   "outputs": [],
   "source": [
    "#print(rows)"
   ]
  },
  {
   "cell_type": "code",
   "execution_count": 10,
   "metadata": {},
   "outputs": [],
   "source": [
    "# writing the rows into a csv file\n",
    "with open('techtrack100.csv', 'w', newline = '') as f_output:\n",
    "    csv_output = csv.writer(f_output)\n",
    "    csv_output.writerows(rows)"
   ]
  },
  {
   "cell_type": "code",
   "execution_count": 22,
   "metadata": {},
   "outputs": [],
   "source": [
    "techtrack100 = pd.read_csv(\"techtrack100.csv\", index_col = 0)"
   ]
  },
  {
   "cell_type": "code",
   "execution_count": 25,
   "metadata": {},
   "outputs": [
    {
     "data": {
      "text/html": [
       "<div>\n",
       "<style scoped>\n",
       "    .dataframe tbody tr th:only-of-type {\n",
       "        vertical-align: middle;\n",
       "    }\n",
       "\n",
       "    .dataframe tbody tr th {\n",
       "        vertical-align: top;\n",
       "    }\n",
       "\n",
       "    .dataframe thead th {\n",
       "        text-align: right;\n",
       "    }\n",
       "</style>\n",
       "<table border=\"1\" class=\"dataframe\">\n",
       "  <thead>\n",
       "    <tr style=\"text-align: right;\">\n",
       "      <th></th>\n",
       "      <th>Company</th>\n",
       "      <th>Webpage</th>\n",
       "      <th>Description</th>\n",
       "      <th>Location</th>\n",
       "      <th>Year end</th>\n",
       "      <th>Annual sales rise over 3 years</th>\n",
       "      <th>Latest sales £000s</th>\n",
       "      <th>Staff</th>\n",
       "      <th>Comments</th>\n",
       "    </tr>\n",
       "    <tr>\n",
       "      <th>Rank</th>\n",
       "      <th></th>\n",
       "      <th></th>\n",
       "      <th></th>\n",
       "      <th></th>\n",
       "      <th></th>\n",
       "      <th></th>\n",
       "      <th></th>\n",
       "      <th></th>\n",
       "      <th></th>\n",
       "    </tr>\n",
       "  </thead>\n",
       "  <tbody>\n",
       "    <tr>\n",
       "      <th>1</th>\n",
       "      <td>Plan.comCommunications provider</td>\n",
       "      <td>http://www.plan.com</td>\n",
       "      <td>Communications provider</td>\n",
       "      <td>Isle of Man</td>\n",
       "      <td>Sep-17</td>\n",
       "      <td>364.38%</td>\n",
       "      <td>35418</td>\n",
       "      <td>90</td>\n",
       "      <td>About 650 partners use its telecoms platform t...</td>\n",
       "    </tr>\n",
       "    <tr>\n",
       "      <th>2</th>\n",
       "      <td>PsiOxusBiotechnology developer</td>\n",
       "      <td>http://www.psioxus.com</td>\n",
       "      <td>Biotechnology developer</td>\n",
       "      <td>Oxfordshire</td>\n",
       "      <td>Dec-17</td>\n",
       "      <td>311.67%</td>\n",
       "      <td>53136</td>\n",
       "      <td>54</td>\n",
       "      <td>Received a $15m milestone payment from its dev...</td>\n",
       "    </tr>\n",
       "    <tr>\n",
       "      <th>3</th>\n",
       "      <td>CensorNetCloud security software developer</td>\n",
       "      <td>http://www.censornet.com</td>\n",
       "      <td>Cloud security software developer</td>\n",
       "      <td>Basingstoke</td>\n",
       "      <td>Dec-17</td>\n",
       "      <td>210.17%</td>\n",
       "      <td>7535</td>\n",
       "      <td>77</td>\n",
       "      <td>Has more than 4,000 customers, including McDon...</td>\n",
       "    </tr>\n",
       "    <tr>\n",
       "      <th>4</th>\n",
       "      <td>thoughtonomyAutomation software developer</td>\n",
       "      <td>http://www.thoughtonomy.com</td>\n",
       "      <td>Automation software developer</td>\n",
       "      <td>East London</td>\n",
       "      <td>May-18</td>\n",
       "      <td>205.20%</td>\n",
       "      <td>16916</td>\n",
       "      <td>100</td>\n",
       "      <td>It sells to 28 countries and 50% of revenue is...</td>\n",
       "    </tr>\n",
       "    <tr>\n",
       "      <th>5</th>\n",
       "      <td>PerkboxEmployee engagement services</td>\n",
       "      <td>http://www.perkbox.com</td>\n",
       "      <td>Employee engagement services</td>\n",
       "      <td>Central London</td>\n",
       "      <td>Dec-17</td>\n",
       "      <td>204.12%</td>\n",
       "      <td>34700</td>\n",
       "      <td>200</td>\n",
       "      <td>Acquired software platform Loyalty Bay for an ...</td>\n",
       "    </tr>\n",
       "  </tbody>\n",
       "</table>\n",
       "</div>"
      ],
      "text/plain": [
       "                                         Company                      Webpage  \\\n",
       "Rank                                                                            \n",
       "1                Plan.comCommunications provider          http://www.plan.com   \n",
       "2                 PsiOxusBiotechnology developer       http://www.psioxus.com   \n",
       "3     CensorNetCloud security software developer     http://www.censornet.com   \n",
       "4      thoughtonomyAutomation software developer  http://www.thoughtonomy.com   \n",
       "5            PerkboxEmployee engagement services       http://www.perkbox.com   \n",
       "\n",
       "                            Description        Location Year end  \\\n",
       "Rank                                                               \n",
       "1               Communications provider     Isle of Man   Sep-17   \n",
       "2               Biotechnology developer     Oxfordshire   Dec-17   \n",
       "3     Cloud security software developer     Basingstoke   Dec-17   \n",
       "4         Automation software developer     East London   May-18   \n",
       "5          Employee engagement services  Central London   Dec-17   \n",
       "\n",
       "     Annual sales rise over 3 years Latest sales £000s Staff  \\\n",
       "Rank                                                           \n",
       "1                           364.38%              35418    90   \n",
       "2                           311.67%              53136    54   \n",
       "3                           210.17%               7535    77   \n",
       "4                           205.20%              16916   100   \n",
       "5                           204.12%              34700   200   \n",
       "\n",
       "                                               Comments  \n",
       "Rank                                                     \n",
       "1     About 650 partners use its telecoms platform t...  \n",
       "2     Received a $15m milestone payment from its dev...  \n",
       "3     Has more than 4,000 customers, including McDon...  \n",
       "4     It sells to 28 countries and 50% of revenue is...  \n",
       "5     Acquired software platform Loyalty Bay for an ...  "
      ]
     },
     "execution_count": 25,
     "metadata": {},
     "output_type": "execute_result"
    }
   ],
   "source": [
    "techtrack100.head(5)"
   ]
  }
 ],
 "metadata": {
  "kernelspec": {
   "display_name": "Python 3",
   "language": "python",
   "name": "python3"
  },
  "language_info": {
   "codemirror_mode": {
    "name": "ipython",
    "version": 3
   },
   "file_extension": ".py",
   "mimetype": "text/x-python",
   "name": "python",
   "nbconvert_exporter": "python",
   "pygments_lexer": "ipython3",
   "version": "3.6.7"
  }
 },
 "nbformat": 4,
 "nbformat_minor": 2
}
